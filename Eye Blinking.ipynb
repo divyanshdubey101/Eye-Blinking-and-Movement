{
 "cells": [
  {
   "cell_type": "code",
   "execution_count": 2,
   "id": "56ee3fcc",
   "metadata": {},
   "outputs": [],
   "source": [
    "#All the imports go here\n",
    "import numpy as np\n",
    "import cv2 "
   ]
  },
  {
   "cell_type": "code",
   "execution_count": 3,
   "id": "472782c3",
   "metadata": {},
   "outputs": [],
   "source": [
    "#Initializing the face and eye cascade classifiers from xml files\n",
    "face_cascade = cv2.CascadeClassifier('haarcascade_frontalface_default.xml')\n",
    "eye_cascade = cv2.CascadeClassifier('haarcascade_eye_tree_eyeglasses.xml')"
   ]
  },
  {
   "cell_type": "code",
   "execution_count": 12,
   "id": "72df5356",
   "metadata": {},
   "outputs": [
    {
     "name": "stdout",
     "output_type": "stream",
     "text": [
      "Blink detected--------------\n"
     ]
    }
   ],
   "source": [
    "#Variable store execution state\n",
    "first_read = True\n",
    " \n",
    "#Starting the video capture\n",
    "cap = cv2.VideoCapture(0)\n",
    "ret,img = cap.read()\n",
    "\n",
    "while(ret):\n",
    "    ret,img = cap.read()\n",
    "    #Converting the recorded image to grayscale\n",
    "    frame = cv2.resize(img,(854,480),fx=0,fy=0, interpolation = cv2.INTER_CUBIC)\n",
    "    gray = cv2.cvtColor(frame, cv2.COLOR_BGR2GRAY)\n",
    "    #Applying filter to remove impurities\n",
    "    gray = cv2.bilateralFilter(gray,5,1,1)\n",
    " \n",
    "    #Detecting the face for region of image to be fed to eye classifier\n",
    "    faces = face_cascade.detectMultiScale(gray, 1.3, 5,minSize=(200,200))\n",
    "    if(len(faces)>0):\n",
    "        for (x,y,w,h) in faces:\n",
    "            img = cv2.rectangle(img,(x,y),(x+w,y+h),(0,255,0),2)\n",
    " \n",
    "            #roi_face is face which is input to eye classifier\n",
    "            roi_face = gray[y:y+h,x:x+w]\n",
    "            roi_face_clr = img[y:y+h,x:x+w]\n",
    "            eyes = eye_cascade.detectMultiScale(roi_face,1.3,5,minSize=(50,50))\n",
    " \n",
    "            #Examining the length of eyes object for eyes\n",
    "            if(len(eyes)>=2):\n",
    "                #Check if program is running for detection\n",
    "                if(first_read):\n",
    "                    cv2.putText(img,\n",
    "                    \"Eye detected press s to begin\",\n",
    "                    (70,70), \n",
    "                    cv2.FONT_HERSHEY_PLAIN, 3,\n",
    "                    (0,255,0),2)\n",
    "                else:\n",
    "                    cv2.putText(img,\n",
    "                    \"Eyes open!\", (70,70),\n",
    "                    cv2.FONT_HERSHEY_PLAIN, 2,\n",
    "                    (255,255,255),2)\n",
    "            else:\n",
    "                if(first_read):\n",
    "                    #To ensure if the eyes are present before starting\n",
    "                    cv2.putText(img,\n",
    "                    \"No eyes detected\", (70,70),\n",
    "                    cv2.FONT_HERSHEY_PLAIN, 3,\n",
    "                    (0,0,255),2)\n",
    "                else:\n",
    "                    #This will print on console and restart the algorithm\n",
    "                    print(\"Blink detected--------------\")\n",
    "                    cv2.waitKey(3000)\n",
    "                    first_read=True\n",
    "             \n",
    "    else:\n",
    "        cv2.putText(img,\n",
    "        \"No face detected\",(100,100),\n",
    "        cv2.FONT_HERSHEY_PLAIN, 3,\n",
    "        (0,255,0),2)\n",
    " \n",
    "    #Controlling the algorithm with keys\n",
    "    cv2.imshow('img',img)\n",
    "    a = cv2.waitKey(1)\n",
    "    if(a==ord('q')):\n",
    "        break\n",
    "    elif(a==ord('s') and first_read):\n",
    "        #This will start the detection\n",
    "        first_read = False\n",
    " \n",
    "cap.release()\n",
    "cv2.destroyAllWindows()"
   ]
  },
  {
   "cell_type": "code",
   "execution_count": null,
   "id": "c983f09b",
   "metadata": {},
   "outputs": [],
   "source": []
  }
 ],
 "metadata": {
  "kernelspec": {
   "display_name": "Python 3 (ipykernel)",
   "language": "python",
   "name": "python3"
  },
  "language_info": {
   "codemirror_mode": {
    "name": "ipython",
    "version": 3
   },
   "file_extension": ".py",
   "mimetype": "text/x-python",
   "name": "python",
   "nbconvert_exporter": "python",
   "pygments_lexer": "ipython3",
   "version": "3.8.8"
  }
 },
 "nbformat": 4,
 "nbformat_minor": 5
}
